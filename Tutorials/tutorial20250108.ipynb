{
  "nbformat": 4,
  "nbformat_minor": 0,
  "metadata": {
    "colab": {
      "provenance": []
    },
    "kernelspec": {
      "name": "python3",
      "display_name": "Python 3"
    },
    "language_info": {
      "name": "python"
    }
  },
  "cells": [
    {
      "cell_type": "code",
      "source": [
        "!pip install --upgrade git+https://github.com/mschongchulshin/fatigue_life_predictor.git\n"
      ],
      "metadata": {
        "id": "BOgH-WGJdvAa"
      },
      "execution_count": null,
      "outputs": []
    },
    {
      "cell_type": "code",
      "source": [
        "import pandas as pd\n",
        "from fatigue_life_predictor.model import load_trained_model, load_scalers, predict_fatigue_life\n",
        "from google.colab import files\n",
        "import io\n",
        "\n",
        "# File upload\n",
        "print(\"Upload the Excel file to be used for prediction.\")\n",
        "uploaded = files.upload()\n",
        "for file_name in uploaded.keys():\n",
        "    df = pd.read_excel(io.BytesIO(uploaded[file_name]))\n",
        "\n",
        "# Load model and scalers\n",
        "model = load_trained_model()\n",
        "scaler, nf_scaler = load_scalers()\n",
        "\n",
        "# Perform prediction\n",
        "predicted_fatigue_life = predict_fatigue_life(model, scaler, nf_scaler, df)\n",
        "print(\"Predicted fatigue life:\", predicted_fatigue_life)\n"
      ],
      "metadata": {
        "id": "kfUE48gweX-x",
        "collapsed": true
      },
      "execution_count": null,
      "outputs": []
    }
  ]
}